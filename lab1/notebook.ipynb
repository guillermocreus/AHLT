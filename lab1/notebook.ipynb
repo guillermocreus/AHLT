{
 "cells": [
  {
   "cell_type": "code",
   "execution_count": 60,
   "metadata": {},
   "outputs": [],
   "source": [
    "d = {'name': [], 'class': []}\n",
    "with open('parsed.txt','r') as file:\n",
    "    for item in file.readlines(): \n",
    "        vals = item.split(\"|\")\n",
    "        d['name'].append(vals[-2])\n",
    "        d['class'].append(vals[-1].strip())"
   ]
  },
  {
   "cell_type": "code",
   "execution_count": 61,
   "metadata": {},
   "outputs": [],
   "source": [
    "import pandas as pd \n",
    "df = pd.DataFrame(d)"
   ]
  },
  {
   "cell_type": "code",
   "execution_count": 62,
   "metadata": {},
   "outputs": [],
   "source": [
    "sfx = ['azole', 'amine', 'farin', 'idine', 'mycin',\n",
    "            'ytoin', 'goxin', 'navir', 'etine', 'lline','pirin', 'DOCIN', 'TAXOL', 'GASYS', 'VIOXX', \n",
    "                'xitil', 'EVIVE', 'TROTM', 'IMBEX', 'NIVIL''gents', 'itors', 'sants', 'etics', 'otics', \n",
    "                'drugs', 'tives', 'lants', 'mines', 'roids','idine', 'PCP', 'gaine', '18-MC', '-NANM',\n",
    "                 'toxin', 'MHD', 'xin A', 'tatin', 'mPGE2']"
   ]
  },
  {
   "cell_type": "code",
   "execution_count": 63,
   "metadata": {},
   "outputs": [],
   "source": [
    "for suffix in sfx: \n",
    "    column_name = f\"suffix_{suffix}\"\n",
    "    df[column_name] = df['name'].apply(lambda name: name[-5:] == suffix )\n",
    "    df[column_name] = df[column_name].astype(int)"
   ]
  },
  {
   "cell_type": "code",
   "execution_count": 64,
   "metadata": {},
   "outputs": [],
   "source": [
    "df['name_len'] =  df['name'].apply(lambda name:len(name))\n",
    "min = df['name_len'].min()\n",
    "max = df['name_len'].max()\n",
    "df['name_len']=df['name_len'].apply(lambda value: (value-min)/(max-min))\n"
   ]
  },
  {
   "cell_type": "code",
   "execution_count": 66,
   "metadata": {},
   "outputs": [],
   "source": [
    "from sklearn.model_selection import train_test_split\n",
    "from sklearn.preprocessing import OrdinalEncoder\n",
    "train, test = train_test_split(df, test_size=0.2,stratify=df[['class']])\n",
    "\n",
    "encoder = OrdinalEncoder()\n",
    "train['class'] = encoder.fit_transform(train['class'].to_numpy().reshape((-1,1)))\n",
    "test['class'] = encoder.transform(test['class'].to_numpy().reshape((-1,1)))\n",
    "del train['name']\n",
    "del test['name']"
   ]
  },
  {
   "cell_type": "code",
   "execution_count": 67,
   "metadata": {},
   "outputs": [],
   "source": [
    "y_train = train['class']\n",
    "del train['class']\n",
    "y_test = test['class']\n",
    "del test['class']\n",
    "\n",
    "x_train = train.to_numpy()\n",
    "x_test = test.to_numpy()"
   ]
  },
  {
   "cell_type": "markdown",
   "metadata": {},
   "source": [
    "# Train "
   ]
  },
  {
   "cell_type": "code",
   "execution_count": 68,
   "metadata": {},
   "outputs": [],
   "source": [
    "\n",
    "from sklearn.svm import SVC\n",
    "\n",
    "\n",
    "\n",
    "svr = SVC(kernel='rbf')\n",
    "model = svr.fit(x_train, y_train)"
   ]
  },
  {
   "cell_type": "code",
   "execution_count": 69,
   "metadata": {},
   "outputs": [],
   "source": [
    "predictions = svr.predict(x_train)"
   ]
  },
  {
   "cell_type": "code",
   "execution_count": 78,
   "metadata": {},
   "outputs": [
    {
     "name": "stdout",
     "output_type": "stream",
     "text": [
      " f1 0.7174261650804635\n",
      " precision_score 0.8045468483606754\n",
      "              precision    recall  f1-score   support\n",
      "\n",
      "         0.0       1.00      0.19      0.32       926\n",
      "         1.0       0.73      0.99      0.84      5804\n",
      "         2.0       0.96      0.26      0.41       422\n",
      "         3.0       0.90      0.48      0.63      2149\n",
      "\n",
      "    accuracy                           0.76      9301\n",
      "   macro avg       0.90      0.48      0.55      9301\n",
      "weighted avg       0.80      0.76      0.72      9301\n",
      "\n"
     ]
    }
   ],
   "source": [
    "from sklearn.metrics import f1_score\n",
    "from sklearn.metrics import precision_score\n",
    "from sklearn.metrics import recall_score\n",
    "from sklearn.metrics import classification_report\n",
    "\n",
    "\n",
    "print(f\" f1 {f1_score(y_train,predictions,average='weighted')}\")\n",
    "print(f\" recall {recall_score(y_train,predictions,average='weighted')}\")\n",
    "print(f\" precision_score {precision_score(y_train,predictions,average='weighted')}\")\n",
    "print(classification_report(y_train,predictions))\n"
   ]
  },
  {
   "cell_type": "code",
   "execution_count": 79,
   "metadata": {},
   "outputs": [],
   "source": [
    "predictions = svr.predict(x_test)"
   ]
  },
  {
   "cell_type": "code",
   "execution_count": 81,
   "metadata": {},
   "outputs": [
    {
     "name": "stdout",
     "output_type": "stream",
     "text": [
      " f1 0.7230502172825177\n",
      " recall 0.7609630266552021\n",
      " precision_score 0.8061127801970208\n",
      "              precision    recall  f1-score   support\n",
      "\n",
      "         0.0       1.00      0.19      0.32       232\n",
      "         1.0       0.73      0.98      0.84      1452\n",
      "         2.0       0.97      0.27      0.42       105\n",
      "         3.0       0.89      0.50      0.64       537\n",
      "\n",
      "    accuracy                           0.76      2326\n",
      "   macro avg       0.90      0.49      0.56      2326\n",
      "weighted avg       0.81      0.76      0.72      2326\n",
      "\n"
     ]
    }
   ],
   "source": [
    "print(f\" f1 {f1_score(y_test,predictions,average='weighted')}\")\n",
    "print(f\" recall {recall_score(y_test,predictions,average='weighted')}\")\n",
    "print(f\" precision_score {precision_score(y_test,predictions,average='weighted')}\")\n",
    "print(classification_report(y_test,predictions))"
   ]
  }
 ],
 "metadata": {
  "interpreter": {
   "hash": "99962311b5bb54d5d24c2f7bff1d30ddee52d1edfdcee474cbba30ce3e48c098"
  },
  "kernelspec": {
   "display_name": "Python 3.8.9 ('venv': venv)",
   "language": "python",
   "name": "python3"
  },
  "language_info": {
   "codemirror_mode": {
    "name": "ipython",
    "version": 3
   },
   "file_extension": ".py",
   "mimetype": "text/x-python",
   "name": "python",
   "nbconvert_exporter": "python",
   "pygments_lexer": "ipython3",
   "version": "3.8.9"
  },
  "orig_nbformat": 4
 },
 "nbformat": 4,
 "nbformat_minor": 2
}
